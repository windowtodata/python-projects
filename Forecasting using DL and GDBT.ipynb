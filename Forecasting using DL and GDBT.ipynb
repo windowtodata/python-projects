{
 "cells": [
  {
   "cell_type": "code",
   "execution_count": 99,
   "metadata": {
    "collapsed": true
   },
   "outputs": [],
   "source": [
    "from __future__ import print_function\n",
    "\n",
    "import os\n",
    "import glob\n",
    "import sys\n",
    "import re\n",
    "import numpy as np\n",
    "from keras.preprocessing.sequence import pad_sequences\n",
    "from keras.utils import to_categorical\n",
    "from keras.layers import Dense, Input, GlobalMaxPooling1D,Reshape\n",
    "from keras.layers import Conv1D, MaxPooling1D, Embedding,LSTM, Dropout, Bidirectional\n",
    "from keras.models import Model, load_model\n",
    "import pandas as pd\n",
    "import pickle\n",
    "import csv\n",
    "from pympler.asizeof import asizeof, flatsize\n",
    "from sklearn import preprocessing\n",
    "import nltk\n",
    "import string\n",
    "from sklearn.utils.class_weight import compute_class_weight\n",
    "import keras\n",
    "import random\n",
    "import datetime\n",
    "import matplotlib\n",
    "import numpy as np\n",
    "import matplotlib.pyplot as plt\n",
    "import random\n",
    "import pickle\n",
    "from keras.utils.vis_utils import plot_model\n",
    "from IPython.display import SVG\n",
    "from keras.utils.vis_utils import model_to_dot\n",
    "%matplotlib inline"
   ]
  },
  {
   "cell_type": "markdown",
   "metadata": {},
   "source": [
    "# <font color='blue'>Part1</font>\n",
    "### Basic data preparation steps"
   ]
  },
  {
   "cell_type": "code",
   "execution_count": 72,
   "metadata": {
    "collapsed": true
   },
   "outputs": [],
   "source": [
    "salesDF = pd.read_csv(\"sample_data.csv\")"
   ]
  },
  {
   "cell_type": "code",
   "execution_count": 3,
   "metadata": {
    "collapsed": true
   },
   "outputs": [],
   "source": [
    "#Aggregating purchases made on the same day by the same customer\n",
    "salesDF=salesDF.groupby(['cust_id','order_date'],as_index=False)['units_purchased'].sum()"
   ]
  },
  {
   "cell_type": "code",
   "execution_count": 92,
   "metadata": {},
   "outputs": [
    {
     "data": {
      "text/plain": [
       "count    12489.000000\n",
       "mean        25.897750\n",
       "std         34.272185\n",
       "min          1.000000\n",
       "25%          6.000000\n",
       "50%         15.000000\n",
       "75%         33.000000\n",
       "max        543.000000\n",
       "dtype: float64"
      ]
     },
     "execution_count": 92,
     "metadata": {},
     "output_type": "execute_result"
    }
   ],
   "source": [
    "salesDF.groupby('cust_id').size().describe()"
   ]
  },
  {
   "cell_type": "markdown",
   "metadata": {},
   "source": [
    "##### An average customerin our dataset has ~22 store visits"
   ]
  },
  {
   "cell_type": "code",
   "execution_count": 93,
   "metadata": {},
   "outputs": [
    {
     "data": {
      "text/plain": [
       "count    323437.000000\n",
       "mean          3.601415\n",
       "std           3.550222\n",
       "min           0.000000\n",
       "25%           1.000000\n",
       "50%           3.000000\n",
       "75%           4.000000\n",
       "max         250.000000\n",
       "Name: units_purchased, dtype: float64"
      ]
     },
     "execution_count": 93,
     "metadata": {},
     "output_type": "execute_result"
    }
   ],
   "source": [
    "salesDF['units_purchased'].describe()"
   ]
  },
  {
   "cell_type": "markdown",
   "metadata": {},
   "source": [
    "##### Average number of units purchased per visit ~3-4"
   ]
  },
  {
   "cell_type": "code",
   "execution_count": 5,
   "metadata": {
    "collapsed": true
   },
   "outputs": [],
   "source": [
    "salesDF[\"order_date\"] = pd.to_datetime(salesDF['order_date'])\n",
    "idx = pd.date_range('03-15-2015', '03-30-2016')"
   ]
  },
  {
   "cell_type": "code",
   "execution_count": 7,
   "metadata": {},
   "outputs": [
    {
     "data": {
      "text/plain": [
       "((283838, 3), (119581, 3))"
      ]
     },
     "execution_count": 7,
     "metadata": {},
     "output_type": "execute_result"
    }
   ],
   "source": [
    "#How many customers purchased less than 3 items in a visit?\n",
    "#However, they might purchase 3 or more items during the week\n",
    "#In this exercise, we will use the second case as our response variable\n",
    "salesDF.shape, salesDF[salesDF['units_purchased'] <3].shape"
   ]
  },
  {
   "cell_type": "code",
   "execution_count": 8,
   "metadata": {
    "collapsed": true
   },
   "outputs": [],
   "source": [
    "#Splitting the data frame by customers\n",
    "customers = [g.reset_index(drop=True) for n, g in salesDF.groupby('cust_id')]"
   ]
  },
  {
   "cell_type": "code",
   "execution_count": 10,
   "metadata": {},
   "outputs": [
    {
     "data": {
      "text/html": [
       "<div>\n",
       "<style>\n",
       "    .dataframe thead tr:only-child th {\n",
       "        text-align: right;\n",
       "    }\n",
       "\n",
       "    .dataframe thead th {\n",
       "        text-align: left;\n",
       "    }\n",
       "\n",
       "    .dataframe tbody tr th {\n",
       "        vertical-align: top;\n",
       "    }\n",
       "</style>\n",
       "<table border=\"1\" class=\"dataframe\">\n",
       "  <thead>\n",
       "    <tr style=\"text-align: right;\">\n",
       "      <th></th>\n",
       "      <th>cust_id</th>\n",
       "      <th>order_date</th>\n",
       "      <th>units_purchased</th>\n",
       "    </tr>\n",
       "  </thead>\n",
       "  <tbody>\n",
       "    <tr>\n",
       "      <th>0</th>\n",
       "      <td>4005940437</td>\n",
       "      <td>2015-03-20</td>\n",
       "      <td>3</td>\n",
       "    </tr>\n",
       "    <tr>\n",
       "      <th>1</th>\n",
       "      <td>4005940437</td>\n",
       "      <td>2015-03-21</td>\n",
       "      <td>4</td>\n",
       "    </tr>\n",
       "    <tr>\n",
       "      <th>2</th>\n",
       "      <td>4005940437</td>\n",
       "      <td>2015-03-23</td>\n",
       "      <td>3</td>\n",
       "    </tr>\n",
       "    <tr>\n",
       "      <th>3</th>\n",
       "      <td>4005940437</td>\n",
       "      <td>2015-03-25</td>\n",
       "      <td>3</td>\n",
       "    </tr>\n",
       "    <tr>\n",
       "      <th>4</th>\n",
       "      <td>4005940437</td>\n",
       "      <td>2015-03-27</td>\n",
       "      <td>3</td>\n",
       "    </tr>\n",
       "  </tbody>\n",
       "</table>\n",
       "</div>"
      ],
      "text/plain": [
       "      cust_id order_date  units_purchased\n",
       "0  4005940437 2015-03-20                3\n",
       "1  4005940437 2015-03-21                4\n",
       "2  4005940437 2015-03-23                3\n",
       "3  4005940437 2015-03-25                3\n",
       "4  4005940437 2015-03-27                3"
      ]
     },
     "execution_count": 10,
     "metadata": {},
     "output_type": "execute_result"
    }
   ],
   "source": [
    "customers[0].head()"
   ]
  },
  {
   "cell_type": "markdown",
   "metadata": {},
   "source": [
    "### We will look at the buying pattern of 20 random customers"
   ]
  },
  {
   "cell_type": "code",
   "execution_count": 11,
   "metadata": {},
   "outputs": [
    {
     "data": {
      "image/png": "[encoded data removed]",
      "text/plain": [
       "<matplotlib.figure.Figure at 0x23ea7411780>"
      ]
     },
     "metadata": {},
     "output_type": "display_data"
    }
   ],
   "source": [
    "fig, ax = plt.subplots(figsize=(8,6))\n",
    "pd.concat(random.sample(customers, 20)).groupby('cust_id')\\\n",
    ".plot(x='order_date',y='units_purchased',kind='line', ax=ax,legend=False);"
   ]
  },
  {
   "cell_type": "markdown",
   "metadata": {},
   "source": [
    "### As seen above, it does not seem like there is trend or seasonality in the data, the data seems to be stationary with constant mean and variance (at least visually)"
   ]
  },
  {
   "cell_type": "code",
   "execution_count": 12,
   "metadata": {
    "collapsed": true
   },
   "outputs": [],
   "source": [
    "#Function to be used to calculate the predictor\n",
    "def sum_less_than_three(l):\n",
    "    if sum(l) <3:\n",
    "        return 1\n",
    "    else:\n",
    "        return 0"
   ]
  },
  {
   "cell_type": "code",
   "execution_count": 13,
   "metadata": {
    "collapsed": true
   },
   "outputs": [],
   "source": [
    "#Get weekly data ending on Saturday (I have verified, this works)\n",
    "weeks = [g.reset_index(drop=True)\n",
    "         for n, g in salesDF.groupby(pd.Grouper(freq='W-SAT', key='order_date'))]"
   ]
  },
  {
   "cell_type": "markdown",
   "metadata": {},
   "source": [
    "### The response variable is calculated for each week, for all customers that shopped that week"
   ]
  },
  {
   "cell_type": "code",
   "execution_count": 15,
   "metadata": {
    "collapsed": true
   },
   "outputs": [],
   "source": [
    "weeks_sum={}\n",
    "for (i,w) in enumerate(weeks):\n",
    "    weeks_sum[i]= w.groupby('cust_id')['units_purchased'].agg(lambda x:sum_less_than_three(x)).reset_index()"
   ]
  },
  {
   "cell_type": "markdown",
   "metadata": {},
   "source": [
    "### The feature set (purchases in a visit) are aggegated for each customer and saved in flat files\n",
    "#### <font color='indianred'>Note:</font> Please crate a folder called wp under the current directory"
   ]
  },
  {
   "cell_type": "code",
   "execution_count": 16,
   "metadata": {
    "collapsed": true
   },
   "outputs": [],
   "source": [
    "wp = pd.DataFrame(columns=idx)\n",
    "for (i,c) in enumerate(customers):\n",
    "    cust_id = c['cust_id'].values[0]\n",
    "    c1 = c.set_index('order_date')\n",
    "    c1 = c1.reindex(idx, fill_value=0)\n",
    "    c1['cust_id'] = cust_id\n",
    "    salesDFpivot=pd.pivot_table(c1,index ='cust_id',values='units_purchased',columns=idx).fillna(0)\n",
    "    wp = pd.concat([wp,salesDFpivot])\n",
    "    if i%1000 == 0:\n",
    "        wp.to_csv('wp/wp_'+str(i)+'.csv',sep='|')\n",
    "        wp = pd.DataFrame(columns=idx)"
   ]
  },
  {
   "cell_type": "markdown",
   "metadata": {},
   "source": [
    "### The response variables are also pickled in file\n",
    "#### <font color='indianred'>Note:</font> Please crate a folder called purchases under the current directory"
   ]
  },
  {
   "cell_type": "code",
   "execution_count": 17,
   "metadata": {
    "collapsed": true
   },
   "outputs": [],
   "source": [
    "with open('purchases/weeks_sum.p', 'wb') as f:\n",
    "    pickle.dump(weeks_sum,f)"
   ]
  },
  {
   "cell_type": "markdown",
   "metadata": {},
   "source": [
    "# <font color='blue'>Part 2</font>\n",
    "### Deep Learning model building"
   ]
  },
  {
   "cell_type": "code",
   "execution_count": 3,
   "metadata": {
    "collapsed": true
   },
   "outputs": [],
   "source": [
    "BASE_DIR = './'\n",
    "DATA_DIR = os.path.join(BASE_DIR, 'wp')\n",
    "TARGET_DIR = os.path.join(BASE_DIR, 'purchases') \n",
    "MAX_SEQUENCE_LENGTH = 28\n",
    "VALIDATION_SPLIT = 0.1\n",
    "N=10"
   ]
  },
  {
   "cell_type": "code",
   "execution_count": 4,
   "metadata": {
    "collapsed": true
   },
   "outputs": [],
   "source": [
    "csvs = glob.glob(DATA_DIR + '/*.csv')"
   ]
  },
  {
   "cell_type": "code",
   "execution_count": 5,
   "metadata": {
    "collapsed": true
   },
   "outputs": [],
   "source": [
    "wDF =pd.concat([pd.read_csv(s, sep='|', header=0) for s in csvs])\n",
    "wDF.columns = ['cust_id'] + wDF.columns[1:].tolist()"
   ]
  },
  {
   "cell_type": "code",
   "execution_count": 6,
   "metadata": {},
   "outputs": [
    {
     "data": {
      "text/html": [
       "<div>\n",
       "<style>\n",
       "    .dataframe thead tr:only-child th {\n",
       "        text-align: right;\n",
       "    }\n",
       "\n",
       "    .dataframe thead th {\n",
       "        text-align: left;\n",
       "    }\n",
       "\n",
       "    .dataframe tbody tr th {\n",
       "        vertical-align: top;\n",
       "    }\n",
       "</style>\n",
       "<table border=\"1\" class=\"dataframe\">\n",
       "  <thead>\n",
       "    <tr style=\"text-align: right;\">\n",
       "      <th></th>\n",
       "      <th>cust_id</th>\n",
       "      <th>2015-03-15</th>\n",
       "      <th>2015-03-16</th>\n",
       "      <th>2015-03-17</th>\n",
       "      <th>2015-03-18</th>\n",
       "      <th>2015-03-19</th>\n",
       "      <th>2015-03-20</th>\n",
       "      <th>2015-03-21</th>\n",
       "      <th>2015-03-22</th>\n",
       "      <th>2015-03-23</th>\n",
       "      <th>...</th>\n",
       "      <th>2016-03-21</th>\n",
       "      <th>2016-03-22</th>\n",
       "      <th>2016-03-23</th>\n",
       "      <th>2016-03-24</th>\n",
       "      <th>2016-03-25</th>\n",
       "      <th>2016-03-26</th>\n",
       "      <th>2016-03-27</th>\n",
       "      <th>2016-03-28</th>\n",
       "      <th>2016-03-29</th>\n",
       "      <th>2016-03-30</th>\n",
       "    </tr>\n",
       "  </thead>\n",
       "  <tbody>\n",
       "    <tr>\n",
       "      <th>14</th>\n",
       "      <td>4005946835</td>\n",
       "      <td>0</td>\n",
       "      <td>0</td>\n",
       "      <td>0</td>\n",
       "      <td>0</td>\n",
       "      <td>0</td>\n",
       "      <td>0</td>\n",
       "      <td>2</td>\n",
       "      <td>0</td>\n",
       "      <td>0</td>\n",
       "      <td>...</td>\n",
       "      <td>0</td>\n",
       "      <td>0</td>\n",
       "      <td>0</td>\n",
       "      <td>4</td>\n",
       "      <td>0</td>\n",
       "      <td>0</td>\n",
       "      <td>0</td>\n",
       "      <td>0</td>\n",
       "      <td>0</td>\n",
       "      <td>0</td>\n",
       "    </tr>\n",
       "  </tbody>\n",
       "</table>\n",
       "<p>1 rows × 383 columns</p>\n",
       "</div>"
      ],
      "text/plain": [
       "       cust_id  2015-03-15  2015-03-16  2015-03-17  2015-03-18  2015-03-19  \\\n",
       "14  4005946835           0           0           0           0           0   \n",
       "\n",
       "    2015-03-20  2015-03-21  2015-03-22  2015-03-23     ...      2016-03-21  \\\n",
       "14           0           2           0           0     ...               0   \n",
       "\n",
       "    2016-03-22  2016-03-23  2016-03-24  2016-03-25  2016-03-26  2016-03-27  \\\n",
       "14           0           0           4           0           0           0   \n",
       "\n",
       "    2016-03-28  2016-03-29  2016-03-30  \n",
       "14           0           0           0  \n",
       "\n",
       "[1 rows x 383 columns]"
      ]
     },
     "execution_count": 6,
     "metadata": {},
     "output_type": "execute_result"
    }
   ],
   "source": [
    "wDF[wDF['cust_id']==4005946835]"
   ]
  },
  {
   "cell_type": "code",
   "execution_count": 7,
   "metadata": {
    "collapsed": true
   },
   "outputs": [],
   "source": [
    "with open(TARGET_DIR + '/weeks_sum.p', 'rb') as f:\n",
    "    targets = pickle.load(f)"
   ]
  },
  {
   "cell_type": "code",
   "execution_count": 8,
   "metadata": {},
   "outputs": [
    {
     "data": {
      "text/plain": [
       "12"
      ]
     },
     "execution_count": 8,
     "metadata": {},
     "output_type": "execute_result"
    }
   ],
   "source": [
    "(len(list(wDF))-1)//MAX_SEQUENCE_LENGTH -1"
   ]
  },
  {
   "cell_type": "markdown",
   "metadata": {},
   "source": [
    "### Since the data does not have any visible trend or seasonality, most recent data for a short period of time may be suficient to build a model. We are going to use 1 month of purchase data to build our model"
   ]
  },
  {
   "cell_type": "code",
   "execution_count": 8,
   "metadata": {
    "collapsed": true
   },
   "outputs": [],
   "source": [
    "l = (len(list(wDF))-1)//MAX_SEQUENCE_LENGTH -1\n",
    "sequences = []\n",
    "labels = []\n",
    "for i in range(l):\n",
    "    s = pd.concat([wDF.iloc[:,0],wDF.iloc[:,1+i*MAX_SEQUENCE_LENGTH:1+(i+1)*MAX_SEQUENCE_LENGTH]]\n",
    "                  ,axis=1)\n",
    "    cust_hist = s.merge(targets[i*MAX_SEQUENCE_LENGTH//7+1],on='cust_id')\n",
    "    sequences += cust_hist.iloc[:,1:-1].values.tolist()\n",
    "    labels += cust_hist.iloc[:,-1].values.tolist()"
   ]
  },
  {
   "cell_type": "code",
   "execution_count": 9,
   "metadata": {},
   "outputs": [
    {
     "data": {
      "text/plain": [
       "(28, 40923, 40923)"
      ]
     },
     "execution_count": 9,
     "metadata": {},
     "output_type": "execute_result"
    }
   ],
   "source": [
    "len(sequences[-1]), len(sequences), len(labels)"
   ]
  },
  {
   "cell_type": "code",
   "execution_count": 10,
   "metadata": {},
   "outputs": [
    {
     "name": "stdout",
     "output_type": "stream",
     "text": [
      "Shape of data tensor: (40923, 28)\n"
     ]
    }
   ],
   "source": [
    "data = pad_sequences(np.array(sequences), maxlen=MAX_SEQUENCE_LENGTH)\n",
    "print('Shape of data tensor:', data.shape)"
   ]
  },
  {
   "cell_type": "code",
   "execution_count": 12,
   "metadata": {
    "collapsed": true
   },
   "outputs": [],
   "source": [
    "num_validation_samples = int(VALIDATION_SPLIT * data.shape[0])"
   ]
  },
  {
   "cell_type": "markdown",
   "metadata": {},
   "source": [
    "### Class weights are used for the test set so that the model calculates loss and accuracy based on class weights in the test set"
   ]
  },
  {
   "cell_type": "code",
   "execution_count": 13,
   "metadata": {
    "collapsed": true
   },
   "outputs": [],
   "source": [
    "x_train = data[:-num_validation_samples]\n",
    "y_train = to_categorical(labels[:-num_validation_samples])\n",
    "x_val = data[-num_validation_samples:]\n",
    "y_val = to_categorical(labels[-num_validation_samples:])\n",
    "class_wt = compute_class_weight('balanced', np.unique(labels[-num_validation_samples:]),\n",
    "                                labels[-num_validation_samples:])"
   ]
  },
  {
   "cell_type": "code",
   "execution_count": 14,
   "metadata": {
    "collapsed": true
   },
   "outputs": [],
   "source": [
    "#model = load_model(os.path.join(BASE_DIR + 'models/model_title_LSTM4.h5'))"
   ]
  },
  {
   "cell_type": "code",
   "execution_count": 15,
   "metadata": {},
   "outputs": [
    {
     "name": "stdout",
     "output_type": "stream",
     "text": [
      "(36831, 28) 36831\n"
     ]
    }
   ],
   "source": [
    "print(x_train.shape, len(y_train))"
   ]
  },
  {
   "cell_type": "code",
   "execution_count": 94,
   "metadata": {},
   "outputs": [
    {
     "name": "stdout",
     "output_type": "stream",
     "text": [
      "WARNING:tensorflow:From C:\\Users\\rajde\\Anaconda3\\lib\\site-packages\\keras\\backend\\tensorflow_backend.py:1188: calling reduce_sum (from tensorflow.python.ops.math_ops) with keep_dims is deprecated and will be removed in a future version.\n",
      "Instructions for updating:\n",
      "keep_dims is deprecated, use keepdims instead\n",
      "WARNING:tensorflow:From C:\\Users\\rajde\\Anaconda3\\lib\\site-packages\\keras\\backend\\tensorflow_backend.py:1290: calling reduce_mean (from tensorflow.python.ops.math_ops) with keep_dims is deprecated and will be removed in a future version.\n",
      "Instructions for updating:\n",
      "keep_dims is deprecated, use keepdims instead\n"
     ]
    }
   ],
   "source": [
    "keras.backend.clear_session()\n",
    "sequence_input = Input(shape=(MAX_SEQUENCE_LENGTH,))\n",
    "x = Reshape((MAX_SEQUENCE_LENGTH,1))(sequence_input)\n",
    "x = Dropout(0.1)(x)\n",
    "x = LSTM(64)(x)\n",
    "x = Dropout(0.1)(x)\n",
    "preds = Dense(len(np.unique(labels)), activation='sigmoid')(x)\n",
    "\n",
    "model = Model(sequence_input, preds)\n",
    "model.compile(loss='binary_crossentropy',\n",
    "              optimizer='rmsprop',\n",
    "              metrics=['acc'])"
   ]
  },
  {
   "cell_type": "code",
   "execution_count": 100,
   "metadata": {},
   "outputs": [
    {
     "data": {
      "image/svg+xml": [
       "<svg height=\"410pt\" viewBox=\"0.00 0.00 138.00 410.00\" width=\"138pt\" xmlns=\"http://www.w3.org/2000/svg\" xmlns:xlink=\"http://www.w3.org/1999/xlink\">\n",
       "<g class=\"graph\" id=\"graph0\" transform=\"scale(1 1) rotate(0) translate(4 406)\">\n",
       "<title>G</title>\n",
       "<polygon fill=\"white\" points=\"-4,4 -4,-406 134,-406 134,4 -4,4\" stroke=\"none\"/>\n",
       "<!-- 1937158334112 -->\n",
       "<g class=\"node\" id=\"node1\"><title>1937158334112</title>\n",
       "<polygon fill=\"none\" points=\"2,-365.5 2,-401.5 128,-401.5 128,-365.5 2,-365.5\" stroke=\"black\"/>\n",
       "<text font-family=\"Times New Roman,serif\" font-size=\"14.00\" text-anchor=\"middle\" x=\"65\" y=\"-379.8\">input_1: InputLayer</text>\n",
       "</g>\n",
       "<!-- 1937158350832 -->\n",
       "<g class=\"node\" id=\"node2\"><title>1937158350832</title>\n",
       "<polygon fill=\"none\" points=\"1,-292.5 1,-328.5 129,-328.5 129,-292.5 1,-292.5\" stroke=\"black\"/>\n",
       "<text font-family=\"Times New Roman,serif\" font-size=\"14.00\" text-anchor=\"middle\" x=\"65\" y=\"-306.8\">reshape_1: Reshape</text>\n",
       "</g>\n",
       "<!-- 1937158334112&#45;&gt;1937158350832 -->\n",
       "<g class=\"edge\" id=\"edge1\"><title>1937158334112-&gt;1937158350832</title>\n",
       "<path d=\"M65,-365.313C65,-357.289 65,-347.547 65,-338.569\" fill=\"none\" stroke=\"black\"/>\n",
       "<polygon fill=\"black\" points=\"68.5001,-338.529 65,-328.529 61.5001,-338.529 68.5001,-338.529\" stroke=\"black\"/>\n",
       "</g>\n",
       "<!-- 1937158389712 -->\n",
       "<g class=\"node\" id=\"node3\"><title>1937158389712</title>\n",
       "<polygon fill=\"none\" points=\"0,-219.5 0,-255.5 130,-255.5 130,-219.5 0,-219.5\" stroke=\"black\"/>\n",
       "<text font-family=\"Times New Roman,serif\" font-size=\"14.00\" text-anchor=\"middle\" x=\"65\" y=\"-233.8\">dropout_1: Dropout</text>\n",
       "</g>\n",
       "<!-- 1937158350832&#45;&gt;1937158389712 -->\n",
       "<g class=\"edge\" id=\"edge2\"><title>1937158350832-&gt;1937158389712</title>\n",
       "<path d=\"M65,-292.313C65,-284.289 65,-274.547 65,-265.569\" fill=\"none\" stroke=\"black\"/>\n",
       "<polygon fill=\"black\" points=\"68.5001,-265.529 65,-255.529 61.5001,-265.529 68.5001,-265.529\" stroke=\"black\"/>\n",
       "</g>\n",
       "<!-- 1937158334168 -->\n",
       "<g class=\"node\" id=\"node4\"><title>1937158334168</title>\n",
       "<polygon fill=\"none\" points=\"16,-146.5 16,-182.5 114,-182.5 114,-146.5 16,-146.5\" stroke=\"black\"/>\n",
       "<text font-family=\"Times New Roman,serif\" font-size=\"14.00\" text-anchor=\"middle\" x=\"65\" y=\"-160.8\">lstm_1: LSTM</text>\n",
       "</g>\n",
       "<!-- 1937158389712&#45;&gt;1937158334168 -->\n",
       "<g class=\"edge\" id=\"edge3\"><title>1937158389712-&gt;1937158334168</title>\n",
       "<path d=\"M65,-219.313C65,-211.289 65,-201.547 65,-192.569\" fill=\"none\" stroke=\"black\"/>\n",
       "<polygon fill=\"black\" points=\"68.5001,-192.529 65,-182.529 61.5001,-192.529 68.5001,-192.529\" stroke=\"black\"/>\n",
       "</g>\n",
       "<!-- 1937158388144 -->\n",
       "<g class=\"node\" id=\"node5\"><title>1937158388144</title>\n",
       "<polygon fill=\"none\" points=\"0,-73.5 0,-109.5 130,-109.5 130,-73.5 0,-73.5\" stroke=\"black\"/>\n",
       "<text font-family=\"Times New Roman,serif\" font-size=\"14.00\" text-anchor=\"middle\" x=\"65\" y=\"-87.8\">dropout_2: Dropout</text>\n",
       "</g>\n",
       "<!-- 1937158334168&#45;&gt;1937158388144 -->\n",
       "<g class=\"edge\" id=\"edge4\"><title>1937158334168-&gt;1937158388144</title>\n",
       "<path d=\"M65,-146.313C65,-138.289 65,-128.547 65,-119.569\" fill=\"none\" stroke=\"black\"/>\n",
       "<polygon fill=\"black\" points=\"68.5001,-119.529 65,-109.529 61.5001,-119.529 68.5001,-119.529\" stroke=\"black\"/>\n",
       "</g>\n",
       "<!-- 1937158406040 -->\n",
       "<g class=\"node\" id=\"node6\"><title>1937158406040</title>\n",
       "<polygon fill=\"none\" points=\"13,-0.5 13,-36.5 117,-36.5 117,-0.5 13,-0.5\" stroke=\"black\"/>\n",
       "<text font-family=\"Times New Roman,serif\" font-size=\"14.00\" text-anchor=\"middle\" x=\"65\" y=\"-14.8\">dense_1: Dense</text>\n",
       "</g>\n",
       "<!-- 1937158388144&#45;&gt;1937158406040 -->\n",
       "<g class=\"edge\" id=\"edge5\"><title>1937158388144-&gt;1937158406040</title>\n",
       "<path d=\"M65,-73.3129C65,-65.2895 65,-55.5475 65,-46.5691\" fill=\"none\" stroke=\"black\"/>\n",
       "<polygon fill=\"black\" points=\"68.5001,-46.5288 65,-36.5288 61.5001,-46.5289 68.5001,-46.5288\" stroke=\"black\"/>\n",
       "</g>\n",
       "</g>\n",
       "</svg>"
      ],
      "text/plain": [
       "<IPython.core.display.SVG object>"
      ]
     },
     "execution_count": 100,
     "metadata": {},
     "output_type": "execute_result"
    }
   ],
   "source": [
    "SVG(model_to_dot(model).create(prog='dot', format='svg'))"
   ]
  },
  {
   "cell_type": "code",
   "execution_count": 20,
   "metadata": {},
   "outputs": [
    {
     "name": "stdout",
     "output_type": "stream",
     "text": [
      "Training model.\n",
      "Train on 36831 samples, validate on 4092 samples\n",
      "Epoch 1/10\n",
      "36831/36831 [==============================] - 6s - loss: 0.4123 - acc: 0.8171 - val_loss: 0.2951 - val_acc: 0.8814\n",
      "Epoch 2/10\n",
      "36831/36831 [==============================] - 6s - loss: 0.3165 - acc: 0.8709 - val_loss: 0.2513 - val_acc: 0.9051\n",
      "Epoch 3/10\n",
      "36831/36831 [==============================] - 6s - loss: 0.2760 - acc: 0.8882 - val_loss: 0.2037 - val_acc: 0.9278\n",
      "Epoch 4/10\n",
      "36831/36831 [==============================] - 6s - loss: 0.2455 - acc: 0.8964 - val_loss: 0.2134 - val_acc: 0.9118\n",
      "Epoch 5/10\n",
      "36831/36831 [==============================] - 6s - loss: 0.2283 - acc: 0.9027 - val_loss: 0.1299 - val_acc: 0.9541\n",
      "Epoch 6/10\n",
      "36831/36831 [==============================] - 6s - loss: 0.2138 - acc: 0.9063 - val_loss: 0.1456 - val_acc: 0.9478\n",
      "Epoch 7/10\n",
      "36831/36831 [==============================] - 6s - loss: 0.2052 - acc: 0.9095 - val_loss: 0.1141 - val_acc: 0.9618\n",
      "Epoch 8/10\n",
      "36831/36831 [==============================] - 6s - loss: 0.1911 - acc: 0.9171 - val_loss: 0.1118 - val_acc: 0.9616\n",
      "Epoch 9/10\n",
      "36831/36831 [==============================] - 6s - loss: 0.1894 - acc: 0.9163 - val_loss: 0.0941 - val_acc: 0.9651\n",
      "Epoch 10/10\n",
      "36831/36831 [==============================] - 6s - loss: 0.1815 - acc: 0.9203 - val_loss: 0.0932 - val_acc: 0.9673\n"
     ]
    }
   ],
   "source": [
    "print('Training model.')\n",
    "model.fit(x_train, y_train,\n",
    "          batch_size=128,\n",
    "          class_weight=class_wt,\n",
    "          epochs=10,\n",
    "          validation_data=(x_val, y_val))\n",
    "model.save(os.path.join(BASE_DIR + 'models/model_LSTMAug2018_1.h5'))"
   ]
  },
  {
   "cell_type": "markdown",
   "metadata": {},
   "source": [
    "### Let us take a sample pattern of 28 days of items purchased by a customer, and predict the probability of coming back next week, but less that 3 purchases from the model"
   ]
  },
  {
   "cell_type": "code",
   "execution_count": 33,
   "metadata": {},
   "outputs": [
    {
     "data": {
      "text/plain": [
       "array([0, 0, 0, 0, 0, 0, 0, 0, 0, 0, 0, 2, 0, 0, 0, 0, 0, 0, 0, 0, 0, 0,\n",
       "       0, 0, 0, 0, 0, 0])"
      ]
     },
     "execution_count": 33,
     "metadata": {},
     "output_type": "execute_result"
    }
   ],
   "source": [
    "ll = random.randint(1,len(data))\n",
    "data[ll-1]"
   ]
  },
  {
   "cell_type": "code",
   "execution_count": 34,
   "metadata": {},
   "outputs": [
    {
     "data": {
      "text/plain": [
       "array([[0.0233695, 0.9768465]], dtype=float32)"
      ]
     },
     "execution_count": 34,
     "metadata": {},
     "output_type": "execute_result"
    }
   ],
   "source": [
    "model.predict(data[ll-1].reshape(-1,MAX_SEQUENCE_LENGTH))"
   ]
  },
  {
   "cell_type": "markdown",
   "metadata": {},
   "source": [
    "### So there is 97% probability that the person will come back next week, but will purchase less than 3 items"
   ]
  },
  {
   "cell_type": "markdown",
   "metadata": {},
   "source": [
    "# <font color='blue'>Part 3</font>\n",
    "### Using tree based model"
   ]
  },
  {
   "cell_type": "code",
   "execution_count": 37,
   "metadata": {
    "collapsed": true
   },
   "outputs": [],
   "source": [
    "import xgboost as xgb\n",
    "from xgboost import plot_importance,plot_tree\n",
    "from sklearn.model_selection import train_test_split, StratifiedKFold\n",
    "from imblearn.over_sampling import SMOTE\n",
    "from collections import Counter\n",
    "from sklearn.model_selection import GridSearchCV\n",
    "from sklearn.metrics import classification_report, accuracy_score"
   ]
  },
  {
   "cell_type": "code",
   "execution_count": 60,
   "metadata": {},
   "outputs": [
    {
     "data": {
      "text/plain": [
       "(40923, 40923)"
      ]
     },
     "execution_count": 60,
     "metadata": {},
     "output_type": "execute_result"
    }
   ],
   "source": [
    "len(data), len(labels)"
   ]
  },
  {
   "cell_type": "code",
   "execution_count": 61,
   "metadata": {
    "collapsed": true
   },
   "outputs": [],
   "source": [
    "dataDF = pd.DataFrame(data,columns = ['Week-minus-'+str(i)+'days' for i in range(28,0,-1)])"
   ]
  },
  {
   "cell_type": "code",
   "execution_count": 62,
   "metadata": {
    "collapsed": true
   },
   "outputs": [],
   "source": [
    "num_validation_samples = int(VALIDATION_SPLIT * data.shape[0])\n",
    "x_train = dataDF[:-num_validation_samples]\n",
    "y_train = labels[:-num_validation_samples]\n",
    "x_val = dataDF[-num_validation_samples:]\n",
    "y_val = labels[-num_validation_samples:]"
   ]
  },
  {
   "cell_type": "code",
   "execution_count": 63,
   "metadata": {
    "collapsed": true
   },
   "outputs": [],
   "source": [
    "sm = SMOTE(random_state=123)\n",
    "x_train_res, y_train_res = sm.fit_sample(x_train, y_train)"
   ]
  },
  {
   "cell_type": "code",
   "execution_count": 64,
   "metadata": {
    "collapsed": true
   },
   "outputs": [],
   "source": [
    "x_train_res = pd.DataFrame(x_train_res, columns=x_train.columns)"
   ]
  },
  {
   "cell_type": "code",
   "execution_count": 65,
   "metadata": {},
   "outputs": [
    {
     "data": {
      "text/plain": [
       "Counter({0: 24822, 1: 24822})"
      ]
     },
     "execution_count": 65,
     "metadata": {},
     "output_type": "execute_result"
    }
   ],
   "source": [
    "Counter(y_train_res)"
   ]
  },
  {
   "cell_type": "code",
   "execution_count": 66,
   "metadata": {
    "collapsed": true
   },
   "outputs": [],
   "source": [
    "cv_params = {\n",
    "     'nthread':[4],\n",
    "     'objective':['binary:logistic'],\n",
    "     'n_estimators':[9,11],\n",
    "     'max_depth':[5,6],\n",
    "     'min_child_weight':[0.5,1,2],\n",
    "     'colsample_bytree':[0.1,0.2],\n",
    "     'colsample_bylevel':[0.1,0.2],\n",
    "     'subsample': [0.8,0.9],\n",
    "     'silent': [1],\n",
    "     'seed':[123]\n",
    "}\n",
    "\n",
    "cv = StratifiedKFold(n_splits=10, random_state=123)\n",
    "optimized_GBM = GridSearchCV(xgb.XGBClassifier(random_state=123), \n",
    "                            cv_params, cv = cv, n_jobs=-1, scoring='roc_auc')"
   ]
  },
  {
   "cell_type": "code",
   "execution_count": 67,
   "metadata": {},
   "outputs": [
    {
     "data": {
      "text/plain": [
       "GridSearchCV(cv=StratifiedKFold(n_splits=10, random_state=123, shuffle=False),\n",
       "       error_score='raise',\n",
       "       estimator=XGBClassifier(base_score=0.5, booster='gbtree', colsample_bylevel=1,\n",
       "       colsample_bytree=1, gamma=0, learning_rate=0.1, max_delta_step=0,\n",
       "       max_depth=3, min_child_weight=1, missing=None, n_estimators=100,\n",
       "       n_jobs=1, nthread=None, objective='binary:logistic',\n",
       "       random_state=123, reg_alpha=0, reg_lambda=1, scale_pos_weight=1,\n",
       "       seed=None, silent=True, subsample=1),\n",
       "       fit_params=None, iid=True, n_jobs=-1,\n",
       "       param_grid={'nthread': [4], 'objective': ['binary:logistic'], 'n_estimators': [9, 11], 'max_depth': [5, 6], 'min_child_weight': [0.5, 1, 2], 'colsample_bytree': [0.1, 0.2], 'colsample_bylevel': [0.1, 0.2], 'subsample': [0.8, 0.9], 'silent': [1], 'seed': [123]},\n",
       "       pre_dispatch='2*n_jobs', refit=True, return_train_score=True,\n",
       "       scoring='roc_auc', verbose=0)"
      ]
     },
     "execution_count": 67,
     "metadata": {},
     "output_type": "execute_result"
    }
   ],
   "source": [
    "optimized_GBM.fit(x_train_res, y_train_res)"
   ]
  },
  {
   "cell_type": "code",
   "execution_count": 68,
   "metadata": {},
   "outputs": [
    {
     "data": {
      "text/plain": [
       "{'colsample_bylevel': 0.1,\n",
       " 'colsample_bytree': 0.2,\n",
       " 'max_depth': 6,\n",
       " 'min_child_weight': 1,\n",
       " 'n_estimators': 9,\n",
       " 'nthread': 4,\n",
       " 'objective': 'binary:logistic',\n",
       " 'seed': 123,\n",
       " 'silent': 1,\n",
       " 'subsample': 0.9}"
      ]
     },
     "execution_count": 68,
     "metadata": {},
     "output_type": "execute_result"
    }
   ],
   "source": [
    "optimized_GBM.best_params_"
   ]
  },
  {
   "cell_type": "code",
   "execution_count": 69,
   "metadata": {},
   "outputs": [
    {
     "name": "stdout",
     "output_type": "stream",
     "text": [
      "             precision    recall  f1-score   support\n",
      "\n",
      "          0       0.95      0.77      0.85      2804\n",
      "          1       0.64      0.92      0.76      1288\n",
      "\n",
      "avg / total       0.86      0.81      0.82      4092\n",
      "\n",
      "Accuracy: 0.8140273704789834\n"
     ]
    },
    {
     "name": "stderr",
     "output_type": "stream",
     "text": [
      "C:\\Users\\rajde\\Anaconda3\\lib\\site-packages\\sklearn\\preprocessing\\label.py:151: DeprecationWarning: The truth value of an empty array is ambiguous. Returning False, but in future this will result in an error. Use `array.size > 0` to check that an array is not empty.\n",
      "  if diff:\n"
     ]
    }
   ],
   "source": [
    "y_pred = optimized_GBM.predict(x_val)\n",
    "print(classification_report(y_val, y_pred))\n",
    "print(\"Accuracy:\",accuracy_score(y_val, y_pred))"
   ]
  },
  {
   "cell_type": "code",
   "execution_count": 70,
   "metadata": {},
   "outputs": [
    {
     "data": {
      "image/png": "[encoded data removed]",
      "text/plain": [
       "<matplotlib.figure.Figure at 0x1c30740b278>"
      ]
     },
     "metadata": {},
     "output_type": "display_data"
    }
   ],
   "source": [
    "plot_importance(optimized_GBM.best_estimator_);"
   ]
  },
  {
   "cell_type": "markdown",
   "metadata": {},
   "source": [
    "## <font color='indianred'>As seen in the graph above, the number of purchases made by a customer 27 days before the week, is the biggest predictor that he/she is going to make less than 3 purchases on that week</font>"
   ]
  },
  {
   "cell_type": "code",
   "execution_count": null,
   "metadata": {
    "collapsed": true
   },
   "outputs": [],
   "source": []
  }
 ],
 "metadata": {
  "anaconda-cloud": {},
  "kernelspec": {
   "display_name": "Python 3",
   "language": "python",
   "name": "python3"
  },
  "language_info": {
   "codemirror_mode": {
    "name": "ipython",
    "version": 3
   },
   "file_extension": ".py",
   "mimetype": "text/x-python",
   "name": "python",
   "nbconvert_exporter": "python",
   "pygments_lexer": "ipython3",
   "version": "3.6.5"
  }
 },
 "nbformat": 4,
 "nbformat_minor": 2
}
